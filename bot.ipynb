{
  "nbformat": 4,
  "nbformat_minor": 0,
  "metadata": {
    "colab": {
      "provenance": [],
      "gpuType": "T4"
    },
    "kernelspec": {
      "name": "python3",
      "display_name": "Python 3"
    },
    "language_info": {
      "name": "python"
    },
    "accelerator": "GPU"
  },
  "cells": [
    {
      "cell_type": "code",
      "execution_count": 33,
      "metadata": {
        "id": "HCoEWT0sldfJ"
      },
      "outputs": [],
      "source": [
        "import numpy as np\n",
        "import pandas as pd\n",
        "from sklearn.model_selection import train_test_split, cross_val_score\n",
        "from sklearn.preprocessing import LabelEncoder\n",
        "from sklearn.metrics import accuracy_score, precision_score, recall_score, f1_score\n",
        "from sklearn.tree import DecisionTreeClassifier\n",
        "from sklearn.ensemble import RandomForestClassifier\n",
        "from sklearn.svm import SVC\n",
        "from sklearn.linear_model import LogisticRegression\n",
        "from sklearn.tree import _tree"
      ]
    },
    {
      "cell_type": "code",
      "source": [
        "# Load the datasets\n",
        "df = pd.read_csv('/content/Training.csv')\n",
        "test_df = pd.read_csv('/content/Testing.csv')"
      ],
      "metadata": {
        "id": "9ZXd44OHl1MM"
      },
      "execution_count": 34,
      "outputs": []
    },
    {
      "cell_type": "code",
      "source": [
        "df.info()"
      ],
      "metadata": {
        "colab": {
          "base_uri": "https://localhost:8080/"
        },
        "id": "fuoe8NB5mG61",
        "outputId": "ea858a76-b45c-4f79-8127-6a0836e16e23"
      },
      "execution_count": 35,
      "outputs": [
        {
          "output_type": "stream",
          "name": "stdout",
          "text": [
            "<class 'pandas.core.frame.DataFrame'>\n",
            "RangeIndex: 4920 entries, 0 to 4919\n",
            "Columns: 134 entries, itching to Unnamed: 133\n",
            "dtypes: float64(1), int64(132), object(1)\n",
            "memory usage: 5.0+ MB\n"
          ]
        }
      ]
    },
    {
      "cell_type": "code",
      "source": [
        "df.isnull().sum()"
      ],
      "metadata": {
        "colab": {
          "base_uri": "https://localhost:8080/"
        },
        "id": "vL4N3nXZmSgj",
        "outputId": "894a9bb3-33f7-4b26-915e-e514df241365"
      },
      "execution_count": 36,
      "outputs": [
        {
          "output_type": "execute_result",
          "data": {
            "text/plain": [
              "itching                    0\n",
              "skin_rash                  0\n",
              "nodal_skin_eruptions       0\n",
              "continuous_sneezing        0\n",
              "shivering                  0\n",
              "                        ... \n",
              "blister                    0\n",
              "red_sore_around_nose       0\n",
              "yellow_crust_ooze          0\n",
              "prognosis                  0\n",
              "Unnamed: 133            4920\n",
              "Length: 134, dtype: int64"
            ]
          },
          "metadata": {},
          "execution_count": 36
        }
      ]
    },
    {
      "cell_type": "code",
      "source": [
        "df.drop(columns= \"Unnamed: 133\", inplace = True)"
      ],
      "metadata": {
        "id": "-4nPnxcemaYs"
      },
      "execution_count": 37,
      "outputs": []
    },
    {
      "cell_type": "code",
      "source": [
        "df.isnull().sum()"
      ],
      "metadata": {
        "colab": {
          "base_uri": "https://localhost:8080/"
        },
        "id": "G2pI35ltmoQO",
        "outputId": "bc9e9aa5-6fc0-4e21-a357-d5ceb9686357"
      },
      "execution_count": 38,
      "outputs": [
        {
          "output_type": "execute_result",
          "data": {
            "text/plain": [
              "itching                 0\n",
              "skin_rash               0\n",
              "nodal_skin_eruptions    0\n",
              "continuous_sneezing     0\n",
              "shivering               0\n",
              "                       ..\n",
              "inflammatory_nails      0\n",
              "blister                 0\n",
              "red_sore_around_nose    0\n",
              "yellow_crust_ooze       0\n",
              "prognosis               0\n",
              "Length: 133, dtype: int64"
            ]
          },
          "metadata": {},
          "execution_count": 38
        }
      ]
    },
    {
      "cell_type": "code",
      "source": [
        "# Encode categorical features and labels\n",
        "X = df.iloc[:, :-1].values\n",
        "y = df.iloc[:, -1].values\n",
        "labelencoder = LabelEncoder()\n",
        "y = labelencoder.fit_transform(y)"
      ],
      "metadata": {
        "id": "SoU4W4acmthi"
      },
      "execution_count": 39,
      "outputs": []
    },
    {
      "cell_type": "code",
      "source": [
        "# Split the data into training and testing sets\n",
        "X_train, X_test, y_train, y_test = train_test_split(X, y, test_size=0.25, random_state=0)"
      ],
      "metadata": {
        "id": "6bWeZCZymz0b"
      },
      "execution_count": 40,
      "outputs": []
    },
    {
      "cell_type": "code",
      "source": [
        "model = DecisionTreeClassifier(criterion='entropy', max_depth=10, random_state=0)"
      ],
      "metadata": {
        "id": "gX8kJakkm6qV"
      },
      "execution_count": 56,
      "outputs": []
    },
    {
      "cell_type": "code",
      "source": [
        "# Train and evaluate models\n",
        "\n",
        "model.fit(X_train, y_train)\n",
        "y_pred = model.predict(X_test)\n",
        "accuracy = accuracy_score(y_test, y_pred)\n",
        "precision = precision_score(y_test, y_pred, average='weighted')\n",
        "recall = recall_score(y_test, y_pred, average='weighted')\n",
        "f1 = f1_score(y_test, y_pred, average='weighted')\n",
        "print(f\"Accuracy: {accuracy:.2f}\")\n",
        "print(f\"Precision: {precision:.2f}\")\n",
        "print(f\"Recall: {recall:.2f}\")\n",
        "print(f\"F1-score: {f1:.2f}\")"
      ],
      "metadata": {
        "colab": {
          "base_uri": "https://localhost:8080/"
        },
        "id": "i5oNoJQ_m_PR",
        "outputId": "3153f4ed-9a8a-4805-9ef4-77e7978b9236"
      },
      "execution_count": 57,
      "outputs": [
        {
          "output_type": "stream",
          "name": "stdout",
          "text": [
            "Accuracy: 0.95\n",
            "Precision: 0.98\n",
            "Recall: 0.95\n",
            "F1-score: 0.96\n"
          ]
        }
      ]
    },
    {
      "cell_type": "code",
      "source": [
        "# Save the columns\n",
        "cols = df.columns[:-1]"
      ],
      "metadata": {
        "id": "K2b7SUV3nIJ3"
      },
      "execution_count": 58,
      "outputs": []
    },
    {
      "cell_type": "code",
      "source": [
        "def execute_bot():\n",
        "    print(\"Please reply with yes/Yes or no/No for the following symptoms\")\n",
        "\n",
        "    def print_disease(node):\n",
        "        node = node[0]\n",
        "        val = node.nonzero()\n",
        "        disease = labelencoder.inverse_transform(val[0])\n",
        "        return disease\n",
        "\n",
        "    def tree_to_code(tree, feature_names):\n",
        "        tree_ = tree.tree_\n",
        "        feature_name = [\n",
        "            feature_names[i] if i != _tree.TREE_UNDEFINED else \"undefined!\"\n",
        "            for i in tree_.feature\n",
        "        ]\n",
        "        symptoms_present = []\n",
        "\n",
        "        def recurse(node, depth):\n",
        "            if tree_.feature[node] != _tree.TREE_UNDEFINED:\n",
        "                name = feature_name[node]\n",
        "                threshold = tree_.threshold[node]\n",
        "                print(name + \" ?\")\n",
        "                ans = input().lower()\n",
        "                if ans == 'yes':\n",
        "                    val = 1\n",
        "                else:\n",
        "                    val = 0\n",
        "                if val <= threshold:\n",
        "                    recurse(tree_.children_left[node], depth + 1)\n",
        "                else:\n",
        "                    symptoms_present.append(name)\n",
        "                    recurse(tree_.children_right[node], depth + 1)\n",
        "            else:\n",
        "                present_disease = print_disease(tree_.value[node])\n",
        "                print(\"You may have \" + present_disease[0])\n",
        "                print(\"Symptoms present: \" + str(symptoms_present))\n",
        "                red_cols = df.columns\n",
        "                coded_disease = labelencoder.transform([present_disease[0]])\n",
        "                coded_disease = coded_disease[0]\n",
        "                # print(coded_disease)\n",
        "                symptoms_given = red_cols[df.iloc[coded_disease].values.nonzero()]\n",
        "                print(\"Symptoms given: \" + str(list(symptoms_given)))\n",
        "                confidence_level = (1.0 * len(symptoms_present)) / len(symptoms_given)\n",
        "                print(\"Confidence level: \" + str(confidence_level))\n",
        "\n",
        "        recurse(0, 1)\n",
        "\n",
        "    tree_to_code(model, cols)"
      ],
      "metadata": {
        "id": "6H_Qe35LoGRJ"
      },
      "execution_count": 79,
      "outputs": []
    },
    {
      "cell_type": "code",
      "source": [
        "# Execute the bot\n",
        "execute_bot()"
      ],
      "metadata": {
        "colab": {
          "base_uri": "https://localhost:8080/"
        },
        "id": "fVL_-sEaoYY3",
        "outputId": "235a0014-5b5e-449a-fee7-04639ce66529"
      },
      "execution_count": 80,
      "outputs": [
        {
          "output_type": "stream",
          "name": "stdout",
          "text": [
            "Please reply with yes/Yes or no/No for the following symptoms\n",
            "fatigue ?\n",
            "Yes\n",
            "loss_of_appetite ?\n",
            "yes\n",
            "malaise ?\n",
            "Yes\n",
            "yellowing_of_eyes ?\n",
            "Yes\n",
            "blood_in_sputum ?\n",
            "no\n",
            "You may have Hepatitis B\n",
            "Symptoms present: ['fatigue', 'loss_of_appetite', 'malaise', 'yellowing_of_eyes']\n",
            "19\n",
            "Symptoms given: ['continuous_sneezing', 'shivering', 'chills', 'watering_from_eyes', 'prognosis']\n",
            "Confidence level: 0.8\n"
          ]
        }
      ]
    },
    {
      "cell_type": "code",
      "source": [],
      "metadata": {
        "id": "Chq0ojVgociz"
      },
      "execution_count": null,
      "outputs": []
    }
  ]
}